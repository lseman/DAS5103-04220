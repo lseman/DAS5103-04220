{
 "cells": [
  {
   "cell_type": "code",
   "execution_count": 1,
   "metadata": {},
   "outputs": [
    {
     "name": "stdout",
     "output_type": "stream",
     "text": [
      "Scaled A:\n",
      " [[0.82149394 0.28593841 0.48872893]\n",
      " [0.30323279 0.9499195  0.13530103]\n",
      " [0.48290536 0.1260641  0.86188031]]\n",
      "Scaled b: [0.26702159 0.2956919  0.35317224]\n",
      "Scaled c: [3.90052678 4.66921511 6.55631158]\n",
      "Row scaling factors D_r: [3.74501549 6.76379704 8.49443884]\n",
      "Column scaling factors D_c: [0.9751317  0.93384302 1.0927186 ]\n",
      "Scaled solution x_scaled: [0.02294428 0.25268694 0.35995436]\n",
      "Original solution x: [0.02352941 0.27058824 0.32941176]\n",
      "Original solution x: [0.02352941 0.27058824 0.32941176]\n"
     ]
    }
   ],
   "source": [
    "import numpy as np\n",
    "\n",
    "# Example matrix A (3x3)\n",
    "A = np.array([[3.0, 1.0, 2.0],\n",
    "              [2.0, 6.0, 1.0],\n",
    "              [4.0, 1.0, 8.0]])\n",
    "\n",
    "# Example right-hand side vector b\n",
    "b = np.array([1.0, 2.0, 3.0])\n",
    "\n",
    "# Example cost vector c\n",
    "c = np.array([4.0, 5.0, 6.0])\n",
    "\n",
    "def ruiz_scaling(A, b, c, iterations=5):\n",
    "    # Initialize row and column scaling vectors\n",
    "    D_r = np.ones(A.shape[0])  # Row scaling factors\n",
    "    D_c = np.ones(A.shape[1])  # Column scaling factors\n",
    "\n",
    "    # Perform iterative scaling\n",
    "    for _ in range(iterations):\n",
    "        # Row scaling\n",
    "        row_norms = np.linalg.norm(A, axis=1)  # Norms of each row\n",
    "        D_r *= row_norms  # Update row scaling factors\n",
    "        A = A / row_norms[:, np.newaxis]  # Scale rows of A\n",
    "        b = b / row_norms  # Scale b\n",
    "\n",
    "        # Column scaling\n",
    "        col_norms = np.linalg.norm(A, axis=0)  # Norms of each column\n",
    "        D_c *= col_norms  # Update column scaling factors\n",
    "        A = A / col_norms  # Scale columns of A\n",
    "        c = c * col_norms  # Scale c\n",
    "\n",
    "    # Return the scaled matrix, vectors, and scaling factors\n",
    "    return A, b, c, D_r, D_c\n",
    "\n",
    "# Apply Ruiz scaling\n",
    "A_scaled, b_scaled, c_scaled, D_r, D_c = ruiz_scaling(A.copy(), b.copy(), c.copy())\n",
    "\n",
    "# Print the scaled results\n",
    "print(\"Scaled A:\\n\", A_scaled)\n",
    "print(\"Scaled b:\", b_scaled)\n",
    "print(\"Scaled c:\", c_scaled)\n",
    "print(\"Row scaling factors D_r:\", D_r)\n",
    "print(\"Column scaling factors D_c:\", D_c)\n",
    "\n",
    "# Solve the scaled system A_scaled * x_scaled = b_scaled\n",
    "x_scaled = np.linalg.solve(A_scaled, b_scaled)\n",
    "print(\"Scaled solution x_scaled:\", x_scaled)\n",
    "\n",
    "# Reverse the column scaling to get the solution to the original system\n",
    "x_original = x_scaled / D_c\n",
    "print(\"Original solution x:\", x_original)\n",
    "\n",
    "# solve the original system\n",
    "x = np.linalg.solve(A, b)\n",
    "print(\"Original solution x:\", x)\n"
   ]
  },
  {
   "cell_type": "code",
   "execution_count": 2,
   "metadata": {},
   "outputs": [
    {
     "name": "stdout",
     "output_type": "stream",
     "text": [
      "Scaled solution x_scaled: [0.02294428 0.25268694 0.35995436]\n",
      "Original solution x: [0.02352941 0.27058824 0.32941176]\n",
      "Objective value for the original problem c^T x: 3.4235294117647057\n"
     ]
    }
   ],
   "source": [
    "import numpy as np\n",
    "from scipy.optimize import linprog\n",
    "\n",
    "# Example matrix A (3x3)\n",
    "A = np.array([[3.0, 1.0, 2.0],\n",
    "              [2.0, 6.0, 1.0],\n",
    "              [4.0, 1.0, 8.0]])\n",
    "\n",
    "# Example right-hand side vector b\n",
    "b = np.array([1.0, 2.0, 3.0])\n",
    "\n",
    "# Example cost vector c (we want to minimize c^T x)\n",
    "c = np.array([4.0, 5.0, 6.0])\n",
    "\n",
    "def ruiz_scaling(A, b, c, iterations=5):\n",
    "    # Initialize row and column scaling vectors\n",
    "    D_r = np.ones(A.shape[0])  # Row scaling factors\n",
    "    D_c = np.ones(A.shape[1])  # Column scaling factors\n",
    "\n",
    "    # Perform iterative scaling\n",
    "    for _ in range(iterations):\n",
    "        # Row scaling\n",
    "        row_norms = np.linalg.norm(A, axis=1)  # Norms of each row\n",
    "        D_r *= row_norms  # Update row scaling factors\n",
    "        A = A / row_norms[:, np.newaxis]  # Scale rows of A\n",
    "        b = b / row_norms  # Scale b\n",
    "\n",
    "        # Column scaling\n",
    "        col_norms = np.linalg.norm(A, axis=0)  # Norms of each column\n",
    "        D_c *= col_norms  # Update column scaling factors\n",
    "        A = A / col_norms  # Scale columns of A\n",
    "        c = c * col_norms  # Scale c\n",
    "\n",
    "    # Return the scaled matrix, vectors, and scaling factors\n",
    "    return A, b, c, D_r, D_c\n",
    "\n",
    "# Apply Ruiz scaling\n",
    "A_scaled, b_scaled, c_scaled, D_r, D_c = ruiz_scaling(A.copy(), b.copy(), c.copy())\n",
    "\n",
    "\n",
    "# Use SciPy's linprog to solve the scaled linear program\n",
    "# Minimize c_scaled^T x, subject to A_scaled @ x = b_scaled\n",
    "res = linprog(c_scaled, A_eq=A_scaled, b_eq=b_scaled, method='highs')\n",
    "\n",
    "# Check if optimization was successful\n",
    "if res.success:\n",
    "    # Get the scaled solution\n",
    "    x_scaled = res.x\n",
    "    print(\"Scaled solution x_scaled:\", x_scaled)\n",
    "\n",
    "    # Reverse the column scaling to get the solution to the original problem\n",
    "    x_original = x_scaled / D_c\n",
    "    print(\"Original solution x:\", x_original)\n",
    "\n",
    "    # Check the objective value for the original problem\n",
    "    original_obj_value = np.dot(c, x_original)\n",
    "    print(\"Objective value for the original problem c^T x:\", original_obj_value)\n",
    "else:\n",
    "    print(\"Optimization failed:\", res.message)\n"
   ]
  },
  {
   "cell_type": "code",
   "execution_count": 3,
   "metadata": {},
   "outputs": [
    {
     "name": "stdout",
     "output_type": "stream",
     "text": [
      "Original solution x: [0.02352941 0.27058824 0.32941176]\n",
      "Objective value for the original problem c^T x: 3.423529411764706\n"
     ]
    }
   ],
   "source": [
    "# solve the original system\n",
    "res_orig = linprog(c, A_eq=A, b_eq=b, method='highs')\n",
    "if res_orig.success:\n",
    "    x_orig = res_orig.x\n",
    "    print(\"Original solution x:\", x_orig)\n",
    "    print(\"Objective value for the original problem c^T x:\", res_orig.fun)"
   ]
  }
 ],
 "metadata": {
  "kernelspec": {
   "display_name": ".venv",
   "language": "python",
   "name": "python3"
  },
  "language_info": {
   "codemirror_mode": {
    "name": "ipython",
    "version": 3
   },
   "file_extension": ".py",
   "mimetype": "text/x-python",
   "name": "python",
   "nbconvert_exporter": "python",
   "pygments_lexer": "ipython3",
   "version": "3.12.6"
  }
 },
 "nbformat": 4,
 "nbformat_minor": 2
}
